{
 "cells": [
  {
   "cell_type": "code",
   "execution_count": 19,
   "metadata": {},
   "outputs": [],
   "source": [
    "import os, json, re, getpass\n",
    "from dotenv import load_dotenv\n",
    "import pandas as pd\n",
    "from langchain_groq import ChatGroq\n",
    "from langchain_core.output_parsers import StrOutputParser, JsonOutputParser\n",
    "from langchain_core.prompts import ChatPromptTemplate"
   ]
  },
  {
   "cell_type": "code",
   "execution_count": 20,
   "metadata": {},
   "outputs": [],
   "source": [
    "load_dotenv(\".env\", override=True)\n",
    "if \"GROQ_API_KEY\" not in os.environ:\n",
    "    os.environ[\"GROQ_API_KEY\"] = getpass.getpass(\"GROQ API Key: \")"
   ]
  },
  {
   "cell_type": "code",
   "execution_count": 21,
   "metadata": {},
   "outputs": [
    {
     "data": {
      "text/html": [
       "<div>\n",
       "<style scoped>\n",
       "    .dataframe tbody tr th:only-of-type {\n",
       "        vertical-align: middle;\n",
       "    }\n",
       "\n",
       "    .dataframe tbody tr th {\n",
       "        vertical-align: top;\n",
       "    }\n",
       "\n",
       "    .dataframe thead th {\n",
       "        text-align: right;\n",
       "    }\n",
       "</style>\n",
       "<table border=\"1\" class=\"dataframe\">\n",
       "  <thead>\n",
       "    <tr style=\"text-align: right;\">\n",
       "      <th></th>\n",
       "      <th>Name</th>\n",
       "      <th>Point1</th>\n",
       "      <th>Point2</th>\n",
       "      <th>Point3</th>\n",
       "      <th>Extra</th>\n",
       "    </tr>\n",
       "  </thead>\n",
       "  <tbody>\n",
       "    <tr>\n",
       "      <th>0</th>\n",
       "      <td>Tanaya Verma</td>\n",
       "      <td>15/20</td>\n",
       "      <td>30/50</td>\n",
       "      <td>18/20</td>\n",
       "      <td>Had extraodinary participation in MUN.</td>\n",
       "    </tr>\n",
       "  </tbody>\n",
       "</table>\n",
       "</div>"
      ],
      "text/plain": [
       "           Name Point1 Point2 Point3                                   Extra\n",
       "0  Tanaya Verma  15/20  30/50  18/20  Had extraodinary participation in MUN."
      ]
     },
     "execution_count": 21,
     "metadata": {},
     "output_type": "execute_result"
    }
   ],
   "source": [
    "\n",
    "data = pd.read_csv(\"test_data.csv\", nrows=25)\n",
    "data.head()"
   ]
  },
  {
   "cell_type": "code",
   "execution_count": 22,
   "metadata": {},
   "outputs": [],
   "source": [
    "model_id = \"llama3-8b-8192\" #llama3-8b-8192, llama-3.1-8b-instant, llama3-groq-8b-8192-tool-use-preview, llama3-groq-70b-8192-tool-use-preview\n",
    "llm = ChatGroq(model_name=model_id, temperature=0)\n",
    "system_message_template = \"\"\"Provided is a set of points for a students performance both academic and otherwise. The first column is the name, \n",
    "second is the performance in the first unit test, third half yearly, fourth second unit test and last one is an extra comment the teacher has about the student. \n",
    "Create a review of the student using the given points similar to what a teacher would give. Give the review in a single paragraph under the name review as a json output only.\n",
    "Provide the output which can be parsed by a json parser, not text.\n",
    "\"\"\"\n",
    "template = ChatPromptTemplate([\n",
    "    (\"system\", system_message_template),\n",
    "    (\"human\", \"{user_input}\"),])\n",
    "review_chain = template | llm | JsonOutputParser()"
   ]
  },
  {
   "cell_type": "code",
   "execution_count": 23,
   "metadata": {},
   "outputs": [
    {
     "name": "stdout",
     "output_type": "stream",
     "text": [
      "review processed:  0\n"
     ]
    }
   ],
   "source": [
    "arr = []\n",
    "for index, row in data.iterrows():\n",
    "    temp = row.to_dict()\n",
    "    review = row\n",
    "    retry_count = 5\n",
    "    while retry_count >= 0:\n",
    "        try:\n",
    "            chain_output = review_chain.invoke(dict(\n",
    "            user_input = review\n",
    "            ))\n",
    "        except Exception as err:\n",
    "            print(f\"Exception found for review {index}, Retrying: {retry_count}\")\n",
    "            print(\"Exception: \", str(err))\n",
    "            retry_count -= 1\n",
    "            continue\n",
    "        break\n",
    "    arr.append(temp|chain_output)\n",
    "    print(\"review processed: \", index)"
   ]
  },
  {
   "cell_type": "code",
   "execution_count": 24,
   "metadata": {},
   "outputs": [],
   "source": [
    "out = pd.DataFrame(arr)\n",
    "out.to_csv(\"output.csv\", index=False)"
   ]
  }
 ],
 "metadata": {
  "kernelspec": {
   "display_name": "lang_env",
   "language": "python",
   "name": "python3"
  },
  "language_info": {
   "codemirror_mode": {
    "name": "ipython",
    "version": 3
   },
   "file_extension": ".py",
   "mimetype": "text/x-python",
   "name": "python",
   "nbconvert_exporter": "python",
   "pygments_lexer": "ipython3",
   "version": "3.9.13"
  }
 },
 "nbformat": 4,
 "nbformat_minor": 2
}
