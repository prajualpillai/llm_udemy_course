{
 "cells": [
  {
   "cell_type": "code",
   "execution_count": 5,
   "metadata": {},
   "outputs": [],
   "source": [
    "from langchain_groq import ChatGroq\n",
    "import os\n",
    "import config\n",
    "from langchain_core.prompts import ChatPromptTemplate, HumanMessagePromptTemplate\n",
    "if \"GROQ_API_KEY\" not in os.environ:\n",
    "    os.environ[\"GROQ_API_KEY\"] = config.groq_key\n",
    "os.environ[\"HTTP_PROXY\"] = config.proxy\n",
    "os.environ[\"HTTPS_PROXY\"] = config.proxy"
   ]
  },
  {
   "cell_type": "code",
   "execution_count": 6,
   "metadata": {},
   "outputs": [],
   "source": [
    "human_prompt = HumanMessagePromptTemplate.from_template('Make up a funny company name from a company that makes: {product}')\n",
    "chat_prompt_template = ChatPromptTemplate.from_messages([human_prompt])\n",
    "llm = ChatGroq(model='llama3-8b-8192', temperature=0)"
   ]
  },
  {
   "cell_type": "code",
   "execution_count": 7,
   "metadata": {},
   "outputs": [],
   "source": [
    "from langchain.chains import LLMChain"
   ]
  },
  {
   "cell_type": "code",
   "execution_count": 9,
   "metadata": {},
   "outputs": [],
   "source": [
    "chain = chat_prompt_template | llm"
   ]
  },
  {
   "cell_type": "code",
   "execution_count": 14,
   "metadata": {},
   "outputs": [
    {
     "name": "stdout",
     "output_type": "stream",
     "text": [
      "I've got it!\n",
      "\n",
      "The company name is: \"Byte-Sized Chaos Inc.\"\n",
      "\n",
      "Their slogan could be: \"We'll byte off more than we can chew, but you'll love the chaos!\"\n",
      "\n",
      "Their tagline: \"Our computers are so good, you'll want to crash them just to see what happens!\"\n",
      "\n",
      "Their mission statement: \"To create computers that are so ridiculously powerful, you'll need a team of IT ninjas to keep them from taking over the world!\"\n",
      "\n",
      "What do you think?\n"
     ]
    }
   ],
   "source": [
    "print(chain.invoke(input= {'product': 'Computers'}).content)"
   ]
  },
  {
   "cell_type": "code",
   "execution_count": null,
   "metadata": {},
   "outputs": [],
   "source": []
  }
 ],
 "metadata": {
  "kernelspec": {
   "display_name": "lang_env",
   "language": "python",
   "name": "python3"
  },
  "language_info": {
   "codemirror_mode": {
    "name": "ipython",
    "version": 3
   },
   "file_extension": ".py",
   "mimetype": "text/x-python",
   "name": "python",
   "nbconvert_exporter": "python",
   "pygments_lexer": "ipython3",
   "version": "3.9.13"
  }
 },
 "nbformat": 4,
 "nbformat_minor": 2
}
